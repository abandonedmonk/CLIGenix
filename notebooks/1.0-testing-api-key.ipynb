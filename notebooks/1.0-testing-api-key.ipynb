{
 "cells": [
  {
   "cell_type": "code",
   "execution_count": 1,
   "id": "a62fcab8",
   "metadata": {},
   "outputs": [],
   "source": [
    "import cohere\n",
    "import os\n",
    "\n",
    "# Get the API key from environment variable for security\n",
    "COHERE_API_KEY = os.getenv(\"COHERE_API_KEY\")"
   ]
  },
  {
   "cell_type": "code",
   "execution_count": null,
   "id": "3d32fc42",
   "metadata": {},
   "outputs": [],
   "source": [
    "prompt = \"\"\"\n",
    "    You are a helpful assistant. \n",
    "    Given a user question about the command line, respond with the most appropriate and concise CLI command only. \n",
    "    Do not include explanations or extra text—just the command itself.\n",
    "\"\"\""
   ]
  },
  {
   "cell_type": "code",
   "execution_count": 15,
   "id": "b54664f0",
   "metadata": {},
   "outputs": [],
   "source": [
    "# Initialize the Cohere client\n",
    "co = cohere.ClientV2(COHERE_API_KEY)\n",
    "\n",
    "\n",
    "def chat_with_llm(query: str) -> str:\n",
    "    \"\"\"\n",
    "    Sends a query to the Cohere LLM and returns the response.\n",
    "\n",
    "    Args:\n",
    "        query (str): The user's input query.\n",
    "\n",
    "    Returns:\n",
    "        str: The LLM's response.\n",
    "    \"\"\"\n",
    "    \n",
    "    response = co.chat(\n",
    "        model=\"command-r\", \n",
    "        messages=[\n",
    "            {\"role\": \"system\", \"content\": prompt},\n",
    "            {\"role\": \"user\", \"content\": query}\n",
    "        ]\n",
    "    )\n",
    "    # Extract and return the response text\n",
    "    return response"
   ]
  },
  {
   "cell_type": "code",
   "execution_count": 16,
   "id": "e172a032",
   "metadata": {},
   "outputs": [],
   "source": [
    "def input_query(query: str):\n",
    "    \"\"\"\n",
    "    Example command that greets the user by name.\n",
    "\n",
    "    Args:\n",
    "        name (str): The name to greet.\n",
    "    \"\"\"\n",
    "    response = chat_with_llm(query)\n",
    "    print(f\"Query: {query}\")\n",
    "    print(f\"Response: {response}\")\n",
    "    return response\n"
   ]
  },
  {
   "cell_type": "code",
   "execution_count": 17,
   "id": "d60e01b6",
   "metadata": {},
   "outputs": [
    {
     "name": "stdout",
     "output_type": "stream",
     "text": [
      "Query: How to find files in a directory using Linux command line?\n",
      "Response: id='ce1927b8-0968-4c73-adc1-d6279fbcc056' finish_reason='COMPLETE' message=AssistantMessageResponse(role='assistant', tool_calls=None, tool_plan=None, content=[TextAssistantMessageResponseContentItem(type='text', text='find . -type f')], citations=None) usage=Usage(billed_units=UsageBilledUnits(input_tokens=53.0, output_tokens=5.0, search_units=None, classifications=None), tokens=UsageTokens(input_tokens=62.0, output_tokens=5.0)) logprobs=None\n"
     ]
    }
   ],
   "source": [
    "response = input_query(\"How to find files in a directory using Linux command line?\")"
   ]
  },
  {
   "cell_type": "code",
   "execution_count": 18,
   "id": "e17e66d4",
   "metadata": {},
   "outputs": [
    {
     "data": {
      "text/plain": [
       "'find . -type f'"
      ]
     },
     "execution_count": 18,
     "metadata": {},
     "output_type": "execute_result"
    }
   ],
   "source": [
    "response.message.content[0].text"
   ]
  },
  {
   "cell_type": "code",
   "execution_count": null,
   "id": "a0df2a2a",
   "metadata": {},
   "outputs": [],
   "source": []
  }
 ],
 "metadata": {
  "kernelspec": {
   "display_name": "cligenix",
   "language": "python",
   "name": "python3"
  },
  "language_info": {
   "codemirror_mode": {
    "name": "ipython",
    "version": 3
   },
   "file_extension": ".py",
   "mimetype": "text/x-python",
   "name": "python",
   "nbconvert_exporter": "python",
   "pygments_lexer": "ipython3",
   "version": "3.11.13"
  }
 },
 "nbformat": 4,
 "nbformat_minor": 5
}
